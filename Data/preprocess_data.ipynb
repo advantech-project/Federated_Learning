{
 "cells": [
  {
   "cell_type": "code",
   "execution_count": 1,
   "metadata": {},
   "outputs": [],
   "source": [
    "import pandas as pd\n",
    "import numpy as np\n",
    "from sklearn.preprocessing import MinMaxScaler\n"
   ]
  },
  {
   "cell_type": "code",
   "execution_count": 2,
   "metadata": {},
   "outputs": [],
   "source": [
    "csv_names = [\"하이테크센터\", \"로스쿨관\", \"1호관(본관)\", \"7호관(학생회관)\", \n",
    "                \"2호남관\", \"5호북관\", \"2호북관\", \"김현태인하드림센터\", \"5호동관\",\n",
    "                \"5호남관\", \"인하드림센터\", \"9호관\", \"60주년기념관\", \"서호관\"]"
   ]
  },
  {
   "cell_type": "code",
   "execution_count": 3,
   "metadata": {},
   "outputs": [],
   "source": [
    "scaler = MinMaxScaler()\n",
    "\n",
    "for building in (csv_names):\n",
    "    df = pd.read_csv(f'OriginCSV/{building}.csv')\n",
    "    \n",
    "    df['DateTime'] = pd.to_datetime(df['DateTime'])\n",
    "    df = df.sort_values('DateTime')\n",
    "    \n",
    "    df.drop('TimeStamp', axis=1, inplace=True)\n",
    "    \n",
    "    df['DayOfWeek'] = df['DateTime'].dt.dayofweek\n",
    "    \n",
    "    first_row_day_of_week = 1  # 화요일\n",
    "    shift = first_row_day_of_week - df.loc[0, 'DayOfWeek']\n",
    "    df['DayOfWeek'] = (df['DayOfWeek'] + shift) % 7\n",
    "\n",
    "    df['Time'] = df['DateTime'].dt.time\n",
    "\n",
    "    df.reset_index(drop=True, inplace=True)\n",
    "    for i in range(1, len(df)-1):\n",
    "        if df.loc[i, 'DataValue'] < df.loc[i-1, 'DataValue']:\n",
    "            median_value = np.median([df.loc[i-1, 'DataValue'], df.loc[i+1, 'DataValue']])\n",
    "            df.loc[i, 'DataValue'] = median_value\n",
    "\n",
    "    df['PowerUsage'] = df['DataValue'].diff().fillna(0)\n",
    "    df.loc[0, 'PowerUsage'] = 0  # 첫 번째 행 처리\n",
    "    \n",
    "    df['OriginalPowerUsage'] = df['PowerUsage']\n",
    "\n",
    "    df['PowerUsage'] = scaler.fit_transform(df[['PowerUsage']])\n",
    "    df.to_csv(f'GeneratedCSV/Preprocessed_{building}.csv', index=False)"
   ]
  }
 ],
 "metadata": {
  "kernelspec": {
   "display_name": "Python 3 (ipykernel)",
   "language": "python",
   "name": "python3"
  },
  "language_info": {
   "codemirror_mode": {
    "name": "ipython",
    "version": 3
   },
   "file_extension": ".py",
   "mimetype": "text/x-python",
   "name": "python",
   "nbconvert_exporter": "python",
   "pygments_lexer": "ipython3",
   "version": "3.10.6"
  }
 },
 "nbformat": 4,
 "nbformat_minor": 2
}
